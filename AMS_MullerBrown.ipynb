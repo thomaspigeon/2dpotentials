{
 "cells": [
  {
   "cell_type": "markdown",
   "id": "ceb59e7d",
   "metadata": {},
   "source": [
    "# Run AMS on MullerBrown potential "
   ]
  },
  {
   "cell_type": "code",
   "execution_count": 1,
   "id": "2111deed",
   "metadata": {},
   "outputs": [
    {
     "data": {
      "text/html": [
       "<style>.container { width:90% !important; }</style>"
      ],
      "text/plain": [
       "<IPython.core.display.HTML object>"
      ]
     },
     "metadata": {},
     "output_type": "display_data"
    }
   ],
   "source": [
    "from IPython.core.display import  HTML\n",
    "# Jupyter display settings\n",
    "display(HTML(\"<style>.container { width:90% !important; }</style>\"))"
   ]
  },
  {
   "cell_type": "markdown",
   "id": "e209bf78",
   "metadata": {},
   "source": [
    "General imports "
   ]
  },
  {
   "cell_type": "code",
   "execution_count": 2,
   "id": "ac103201",
   "metadata": {},
   "outputs": [],
   "source": [
    "import numpy as np\n",
    "import matplotlib.pyplot as plt"
   ]
  },
  {
   "cell_type": "code",
   "execution_count": 3,
   "id": "02962c78",
   "metadata": {},
   "outputs": [],
   "source": [
    "from potentials.MullerBrown import MullerBrown\n",
    "from simulations.AMSSimulation import AMSOverdampedLangevin, AMSLangevin"
   ]
  },
  {
   "cell_type": "markdown",
   "id": "e98bb318",
   "metadata": {},
   "source": [
    "Definie the potential "
   ]
  },
  {
   "cell_type": "code",
   "execution_count": 4,
   "id": "333b50ba",
   "metadata": {},
   "outputs": [],
   "source": [
    "pot = MullerBrown()\n",
    "pot.set_SigmaR_position(1.)\n",
    "pot.set_SigmaP_position(1.)"
   ]
  },
  {
   "cell_type": "markdown",
   "id": "9b356921",
   "metadata": {},
   "source": [
    "Define reaction coodinate for ams. "
   ]
  },
  {
   "cell_type": "code",
   "execution_count": 5,
   "id": "6ca4ada0",
   "metadata": {},
   "outputs": [],
   "source": [
    "def xi_overdamped(x):\n",
    "    \"\"\"Reaction coordinate \n",
    "    :param x: numpy array with ndim=2 and shape = [any, 2]\n",
    "    :return xi: numpy array with ndim=1 and shape = [any, 1]\"\"\"\n",
    "    if pot.in_P(x[0]):\n",
    "        return 10 ** 8\n",
    "    if pot.in_R(x[0]):\n",
    "        return -10 ** 8\n",
    "    return -x[0, 1]\n",
    "\n",
    "def xi_underdamped(x, p):\n",
    "    \"\"\"Reaction coordinate \n",
    "    :param x: numpy array with ndim=2 and shape = [any, 2]\n",
    "    :return xi: numpy array with ndim=1 and shape = [any, 1]\"\"\"\n",
    "    if pot.in_P(x[0]):\n",
    "        return 10 ** 8\n",
    "    if pot.in_R(x[0]):\n",
    "        return -10 ** 8\n",
    "    return -x[0, 1]"
   ]
  },
  {
   "cell_type": "markdown",
   "id": "3e7d423f",
   "metadata": {},
   "source": [
    "## AMS Overdamped \n",
    "\n",
    "Define AMS object "
   ]
  },
  {
   "cell_type": "code",
   "execution_count": 23,
   "id": "90da3d12",
   "metadata": {},
   "outputs": [],
   "source": [
    "beta = 0.05\n",
    "dt = 0.0001\n",
    "AMS_on_MB = AMSOverdampedLangevin(pot, xi_overdamped, beta, forward=True, dt=dt, threshold=10**(-5))"
   ]
  },
  {
   "cell_type": "markdown",
   "id": "4662fea8",
   "metadata": {},
   "source": [
    "Sample initial condtions "
   ]
  },
  {
   "cell_type": "code",
   "execution_count": 24,
   "id": "fcd9cb4d",
   "metadata": {},
   "outputs": [
    {
     "name": "stdout",
     "output_type": "stream",
     "text": [
      "557\n"
     ]
    }
   ],
   "source": [
    "n_conditions = 50\n",
    "ini_traj, ini_conds, _, n_steps = AMS_on_MB.sample_initial_conditions(n_conditions=n_conditions, save_gauss=False)\n",
    "print(n_steps)"
   ]
  },
  {
   "cell_type": "markdown",
   "id": "77d84919",
   "metadata": {},
   "source": [
    "Do an AMS run "
   ]
  },
  {
   "cell_type": "code",
   "execution_count": 25,
   "id": "d5aaead9",
   "metadata": {},
   "outputs": [],
   "source": [
    "n_rep = 50\n",
    "k_min = 1"
   ]
  },
  {
   "cell_type": "code",
   "execution_count": 26,
   "id": "2055f139",
   "metadata": {
    "scrolled": true
   },
   "outputs": [],
   "source": [
    "p, z_kills, replicas, total_md_steps = AMS_on_MB.ams_run(ini_conds, n_rep, k_min, return_all=True, save_gauss=False)"
   ]
  },
  {
   "cell_type": "code",
   "execution_count": 27,
   "id": "81cfb2be",
   "metadata": {},
   "outputs": [
    {
     "name": "stdout",
     "output_type": "stream",
     "text": [
      "29149\n"
     ]
    }
   ],
   "source": [
    "print(total_md_steps)"
   ]
  },
  {
   "cell_type": "code",
   "execution_count": 28,
   "id": "8d82da31",
   "metadata": {},
   "outputs": [],
   "source": [
    "probas = []\n",
    "n_conditions = 50\n",
    "n_rep = 50\n",
    "k_min = 1\n",
    "for i in range(10):\n",
    "    ini_traj, ini_conds, _, n_steps = AMS_on_MB.sample_initial_conditions(n_conditions=n_conditions, save_gauss=False)\n",
    "    p, z_kills, replicas, total_md_steps = AMS_on_MB.ams_run(ini_conds, n_rep, k_min, return_all=True, save_gauss=False)\n",
    "    probas.append(p)"
   ]
  },
  {
   "cell_type": "code",
   "execution_count": 29,
   "id": "8184e1ac",
   "metadata": {},
   "outputs": [
    {
     "data": {
      "text/plain": [
       "[0.0009646153197592934,\n",
       " 0.0007998030888532938,\n",
       " 0.0012255216773852647,\n",
       " 0.0006875819201222022,\n",
       " 0.0006206226342963488,\n",
       " 0.00040785969409784674,\n",
       " 0.00044984848486903986,\n",
       " 0.0010026828457073494,\n",
       " 0.0008867868022300415,\n",
       " 0.0008810201520279123]"
      ]
     },
     "execution_count": 29,
     "metadata": {},
     "output_type": "execute_result"
    }
   ],
   "source": [
    "probas"
   ]
  },
  {
   "cell_type": "code",
   "execution_count": 30,
   "id": "8fce7bf0",
   "metadata": {},
   "outputs": [
    {
     "name": "stdout",
     "output_type": "stream",
     "text": [
      "0.0007926342619348593\n",
      "0.0002547319105599031\n"
     ]
    }
   ],
   "source": [
    "print(np.mean(probas))\n",
    "print(np.std(probas, ddof=1))"
   ]
  },
  {
   "cell_type": "markdown",
   "id": "908df5c1",
   "metadata": {},
   "source": [
    "## AMS underdamped \n",
    "\n",
    "Define AMS object "
   ]
  },
  {
   "cell_type": "code",
   "execution_count": 6,
   "id": "63627db7",
   "metadata": {},
   "outputs": [],
   "source": [
    "beta = 0.05\n",
    "dt = 0.005\n",
    "m = np.array([[1., 1.]])\n",
    "gamma = np.array([[10**0, 10**0]])\n",
    "AMS_on_MB = AMSLangevin(pot, xi_underdamped, m, gamma, beta, forward=True, dt=dt, threshold=10**(-5))"
   ]
  },
  {
   "cell_type": "code",
   "execution_count": 7,
   "id": "daf34b4e",
   "metadata": {},
   "outputs": [
    {
     "name": "stdout",
     "output_type": "stream",
     "text": [
      "17101\n"
     ]
    }
   ],
   "source": [
    "n_conditions = 500\n",
    "ini_traj, ini_conds, _, n_steps = AMS_on_MB.sample_initial_conditions(n_conditions=n_conditions, save_gauss=False)\n",
    "print(n_steps)"
   ]
  },
  {
   "cell_type": "markdown",
   "id": "ef990a75",
   "metadata": {},
   "source": [
    "Do an AMS run "
   ]
  },
  {
   "cell_type": "code",
   "execution_count": 8,
   "id": "f1801a4e",
   "metadata": {},
   "outputs": [],
   "source": [
    "n_rep = 50\n",
    "k_min = 1"
   ]
  },
  {
   "cell_type": "code",
   "execution_count": 9,
   "id": "4cad8fa2",
   "metadata": {},
   "outputs": [],
   "source": [
    "p, z_kills, replicas, total_md_steps = AMS_on_MB.ams_run(ini_conds, n_rep, k_min, return_all=True, save_gauss=False)"
   ]
  },
  {
   "cell_type": "code",
   "execution_count": 10,
   "id": "567dd2b1",
   "metadata": {},
   "outputs": [
    {
     "name": "stdout",
     "output_type": "stream",
     "text": [
      "27448\n"
     ]
    }
   ],
   "source": [
    "print(total_md_steps)"
   ]
  },
  {
   "cell_type": "code",
   "execution_count": 19,
   "id": "b96c87a4",
   "metadata": {},
   "outputs": [
    {
     "name": "stdout",
     "output_type": "stream",
     "text": [
      "0.0020662777006269528\n"
     ]
    }
   ],
   "source": [
    "print(p)"
   ]
  },
  {
   "cell_type": "code",
   "execution_count": 20,
   "id": "aba65ecc",
   "metadata": {},
   "outputs": [],
   "source": [
    "probas = []\n",
    "n_conditions = 200\n",
    "n_rep = 200\n",
    "k_min = 1\n",
    "for i in range(10):\n",
    "    ini_traj, ini_conds, _, n_steps = AMS_on_MB.sample_initial_conditions(n_conditions=n_conditions, save_gauss=False)\n",
    "    p, z_kills, replicas, total_md_steps = AMS_on_MB.ams_run(ini_conds, n_rep, k_min, return_all=True, save_gauss=False)\n",
    "    probas.append(p)"
   ]
  },
  {
   "cell_type": "code",
   "execution_count": 21,
   "id": "65ee2845",
   "metadata": {},
   "outputs": [
    {
     "data": {
      "text/plain": [
       "[0.00025281113868051973,\n",
       " 0.005045072612273326,\n",
       " 0.0057188963496029865,\n",
       " 0.000598814393232309,\n",
       " 0.0008552546333523242,\n",
       " 0.006677781718538542,\n",
       " 0.008332989613390204,\n",
       " 0.0026167846849069745,\n",
       " 0.009978380085827741,\n",
       " 0.00029376771978301743]"
      ]
     },
     "execution_count": 21,
     "metadata": {},
     "output_type": "execute_result"
    }
   ],
   "source": [
    "probas"
   ]
  },
  {
   "cell_type": "code",
   "execution_count": 22,
   "id": "d340daa9",
   "metadata": {},
   "outputs": [
    {
     "name": "stdout",
     "output_type": "stream",
     "text": [
      "0.004037055294958795\n",
      "0.003603512892338199\n"
     ]
    }
   ],
   "source": [
    "print(np.mean(probas))\n",
    "print(np.std(probas, ddof=1))"
   ]
  },
  {
   "cell_type": "code",
   "execution_count": 34,
   "id": "05bb61ee",
   "metadata": {},
   "outputs": [],
   "source": [
    "x = pot.minP\n",
    "y = pot.minR"
   ]
  },
  {
   "cell_type": "code",
   "execution_count": 37,
   "id": "d6b2933f",
   "metadata": {},
   "outputs": [
    {
     "data": {
      "text/plain": [
       "array([[ 0.6234994 ,  0.02803776, -0.55822364,  1.44172584]])"
      ]
     },
     "execution_count": 37,
     "metadata": {},
     "output_type": "execute_result"
    }
   ],
   "source": [
    "np.column_stack([x,y])"
   ]
  },
  {
   "cell_type": "code",
   "execution_count": 38,
   "id": "860781b7",
   "metadata": {},
   "outputs": [
    {
     "data": {
      "text/plain": [
       "(1, 2)"
      ]
     },
     "execution_count": 38,
     "metadata": {},
     "output_type": "execute_result"
    }
   ],
   "source": [
    "x.shape"
   ]
  },
  {
   "cell_type": "code",
   "execution_count": 50,
   "id": "c9c3d592",
   "metadata": {},
   "outputs": [],
   "source": [
    "u = np.column_stack([np.arange(0, 10, 6), np.arange(1, 10, 6)])"
   ]
  },
  {
   "cell_type": "code",
   "execution_count": 108,
   "id": "b97dabb3",
   "metadata": {},
   "outputs": [],
   "source": [
    "a = np.arange(0, 100).reshape(10, 10)"
   ]
  },
  {
   "cell_type": "code",
   "execution_count": 70,
   "id": "2ad2907b",
   "metadata": {},
   "outputs": [
    {
     "data": {
      "text/plain": [
       "array([[ 0,  1,  2,  3,  4,  5,  6,  7,  8,  9],\n",
       "       [10, 11, 12, 13, 14, 15, 16, 17, 18, 19],\n",
       "       [20, 21, 22, 23, 24, 25, 26, 27, 28, 29],\n",
       "       [30, 31, 32, 33, 34, 35, 36, 37, 38, 39],\n",
       "       [40, 41, 42, 43, 44, 45, 46, 47, 48, 49],\n",
       "       [50, 51, 52, 53, 54, 55, 56, 57, 58, 59],\n",
       "       [60, 61, 62, 63, 64, 65, 66, 67, 68, 69],\n",
       "       [70, 71, 72, 73, 74, 75, 76, 77, 78, 79],\n",
       "       [80, 81, 82, 83, 84, 85, 86, 87, 88, 89],\n",
       "       [90, 91, 92, 93, 94, 95, 96, 97, 98, 99]])"
      ]
     },
     "execution_count": 70,
     "metadata": {},
     "output_type": "execute_result"
    }
   ],
   "source": [
    "a"
   ]
  },
  {
   "cell_type": "code",
   "execution_count": 105,
   "id": "6a7c6ebc",
   "metadata": {},
   "outputs": [],
   "source": [
    "indices = np.column_stack([np.arange(0, 10, 6), np.arange(1, 10, 6)]).flatten(\"C\")"
   ]
  },
  {
   "cell_type": "code",
   "execution_count": 106,
   "id": "7009fb60",
   "metadata": {},
   "outputs": [
    {
     "data": {
      "text/plain": [
       "array([0, 1, 6, 7])"
      ]
     },
     "execution_count": 106,
     "metadata": {},
     "output_type": "execute_result"
    }
   ],
   "source": [
    "indices\n"
   ]
  },
  {
   "cell_type": "code",
   "execution_count": 107,
   "id": "09a4a453",
   "metadata": {},
   "outputs": [
    {
     "data": {
      "text/plain": [
       "array([[ 0,  1,  6,  7],\n",
       "       [10, 11, 16, 17],\n",
       "       [20, 21, 26, 27],\n",
       "       [30, 31, 36, 37],\n",
       "       [40, 41, 46, 47],\n",
       "       [50, 51, 56, 57],\n",
       "       [60, 61, 66, 67],\n",
       "       [70, 71, 76, 77],\n",
       "       [80, 81, 86, 87],\n",
       "       [90, 91, 96, 97]])"
      ]
     },
     "execution_count": 107,
     "metadata": {},
     "output_type": "execute_result"
    }
   ],
   "source": [
    "a[:, indices]"
   ]
  },
  {
   "cell_type": "code",
   "execution_count": 80,
   "id": "020bb642",
   "metadata": {},
   "outputs": [],
   "source": [
    "k = a[:, indices].reshape(len(a)*len(indices)//2, 2)"
   ]
  },
  {
   "cell_type": "code",
   "execution_count": 81,
   "id": "b12bd298",
   "metadata": {},
   "outputs": [
    {
     "data": {
      "text/plain": [
       "array([[ 0,  1,  6,  7],\n",
       "       [10, 11, 16, 17],\n",
       "       [20, 21, 26, 27],\n",
       "       [30, 31, 36, 37],\n",
       "       [40, 41, 46, 47],\n",
       "       [50, 51, 56, 57],\n",
       "       [60, 61, 66, 67],\n",
       "       [70, 71, 76, 77],\n",
       "       [80, 81, 86, 87],\n",
       "       [90, 91, 96, 97]])"
      ]
     },
     "execution_count": 81,
     "metadata": {},
     "output_type": "execute_result"
    }
   ],
   "source": [
    "k.reshape(len(a), len(indices))"
   ]
  },
  {
   "cell_type": "code",
   "execution_count": 82,
   "id": "35d3063d",
   "metadata": {},
   "outputs": [
    {
     "data": {
      "text/plain": [
       "array([[ 0,  1],\n",
       "       [10, 11],\n",
       "       [20, 21],\n",
       "       [30, 31],\n",
       "       [40, 41],\n",
       "       [50, 51],\n",
       "       [60, 61],\n",
       "       [70, 71],\n",
       "       [80, 81],\n",
       "       [90, 91]])"
      ]
     },
     "execution_count": 82,
     "metadata": {},
     "output_type": "execute_result"
    }
   ],
   "source": [
    "a[:, :2]"
   ]
  },
  {
   "cell_type": "code",
   "execution_count": 109,
   "id": "28c2314d",
   "metadata": {},
   "outputs": [],
   "source": [
    "a = a[:, :3]\n",
    "b = a.reshape(10, 1, 3) * np.ones([10,10, 3])"
   ]
  },
  {
   "cell_type": "code",
   "execution_count": 110,
   "id": "e703dffc",
   "metadata": {},
   "outputs": [
    {
     "data": {
      "text/plain": [
       "array([[ 0.00000000e+00,  1.00000000e+00,  2.00000000e+00,\n",
       "         1.35773877e-01, -1.23262690e+00],\n",
       "       [ 0.00000000e+00,  1.00000000e+00,  2.00000000e+00,\n",
       "         1.30785010e+00,  4.31401711e-01],\n",
       "       [ 0.00000000e+00,  1.00000000e+00,  2.00000000e+00,\n",
       "        -7.32588385e-01, -6.33232059e-01],\n",
       "       [ 0.00000000e+00,  1.00000000e+00,  2.00000000e+00,\n",
       "         1.56226634e+00,  5.36111503e-01],\n",
       "       [ 0.00000000e+00,  1.00000000e+00,  2.00000000e+00,\n",
       "        -1.64369900e+00,  1.94215005e+00],\n",
       "       [ 0.00000000e+00,  1.00000000e+00,  2.00000000e+00,\n",
       "        -7.80170670e-02, -5.11485888e-01],\n",
       "       [ 0.00000000e+00,  1.00000000e+00,  2.00000000e+00,\n",
       "         5.89138318e-02,  1.14413025e+00],\n",
       "       [ 0.00000000e+00,  1.00000000e+00,  2.00000000e+00,\n",
       "        -4.84894970e-01, -2.28839244e-03],\n",
       "       [ 0.00000000e+00,  1.00000000e+00,  2.00000000e+00,\n",
       "        -4.62857699e-01,  1.66286217e+00],\n",
       "       [ 0.00000000e+00,  1.00000000e+00,  2.00000000e+00,\n",
       "         1.38451965e-01, -8.66791780e-01],\n",
       "       [ 1.00000000e+01,  1.10000000e+01,  1.20000000e+01,\n",
       "        -1.14725968e+00, -4.01802179e-01],\n",
       "       [ 1.00000000e+01,  1.10000000e+01,  1.20000000e+01,\n",
       "        -8.32679769e-01,  6.77124753e-01],\n",
       "       [ 1.00000000e+01,  1.10000000e+01,  1.20000000e+01,\n",
       "         7.22641018e-01, -1.98474371e+00],\n",
       "       [ 1.00000000e+01,  1.10000000e+01,  1.20000000e+01,\n",
       "        -6.07672749e-01,  1.25904212e+00],\n",
       "       [ 1.00000000e+01,  1.10000000e+01,  1.20000000e+01,\n",
       "         1.01700553e+00, -2.50087880e+00],\n",
       "       [ 1.00000000e+01,  1.10000000e+01,  1.20000000e+01,\n",
       "        -9.12095874e-01,  1.18591399e+00],\n",
       "       [ 1.00000000e+01,  1.10000000e+01,  1.20000000e+01,\n",
       "         1.84006942e-01,  1.40083556e+00],\n",
       "       [ 1.00000000e+01,  1.10000000e+01,  1.20000000e+01,\n",
       "        -1.96436466e-01, -1.06762549e+00],\n",
       "       [ 1.00000000e+01,  1.10000000e+01,  1.20000000e+01,\n",
       "        -8.07305275e-01, -3.32782332e-01],\n",
       "       [ 1.00000000e+01,  1.10000000e+01,  1.20000000e+01,\n",
       "         1.72270870e+00,  9.07549365e-02],\n",
       "       [ 2.00000000e+01,  2.10000000e+01,  2.20000000e+01,\n",
       "         7.61766968e-01,  1.86002431e+00],\n",
       "       [ 2.00000000e+01,  2.10000000e+01,  2.20000000e+01,\n",
       "         7.74309348e-01, -3.31083816e-01],\n",
       "       [ 2.00000000e+01,  2.10000000e+01,  2.20000000e+01,\n",
       "         3.86317717e-01, -5.46463511e-03],\n",
       "       [ 2.00000000e+01,  2.10000000e+01,  2.20000000e+01,\n",
       "         2.16935595e+00,  5.69483168e-01],\n",
       "       [ 2.00000000e+01,  2.10000000e+01,  2.20000000e+01,\n",
       "        -5.95961598e-01,  8.49606112e-01],\n",
       "       [ 2.00000000e+01,  2.10000000e+01,  2.20000000e+01,\n",
       "        -1.68330888e+00,  3.57671917e-01],\n",
       "       [ 2.00000000e+01,  2.10000000e+01,  2.20000000e+01,\n",
       "        -5.93480003e-01,  1.14702982e-01],\n",
       "       [ 2.00000000e+01,  2.10000000e+01,  2.20000000e+01,\n",
       "        -2.39873110e-01,  1.62782718e+00],\n",
       "       [ 2.00000000e+01,  2.10000000e+01,  2.20000000e+01,\n",
       "        -1.25761868e+00,  5.30841056e-01],\n",
       "       [ 2.00000000e+01,  2.10000000e+01,  2.20000000e+01,\n",
       "         2.01953745e-01,  1.34839993e+00],\n",
       "       [ 3.00000000e+01,  3.10000000e+01,  3.20000000e+01,\n",
       "         2.50661371e+00, -6.19238399e-01],\n",
       "       [ 3.00000000e+01,  3.10000000e+01,  3.20000000e+01,\n",
       "        -8.27850370e-01, -7.67196426e-01],\n",
       "       [ 3.00000000e+01,  3.10000000e+01,  3.20000000e+01,\n",
       "        -5.73058464e-01, -2.58182549e+00],\n",
       "       [ 3.00000000e+01,  3.10000000e+01,  3.20000000e+01,\n",
       "         7.31492844e-01, -1.41270837e+00],\n",
       "       [ 3.00000000e+01,  3.10000000e+01,  3.20000000e+01,\n",
       "        -4.15595798e-01,  4.19567647e-01],\n",
       "       [ 3.00000000e+01,  3.10000000e+01,  3.20000000e+01,\n",
       "         8.30147235e-01, -9.36307573e-01],\n",
       "       [ 3.00000000e+01,  3.10000000e+01,  3.20000000e+01,\n",
       "        -1.65327978e+00,  5.44244756e-03],\n",
       "       [ 3.00000000e+01,  3.10000000e+01,  3.20000000e+01,\n",
       "         7.57078749e-01, -2.50910344e+00],\n",
       "       [ 3.00000000e+01,  3.10000000e+01,  3.20000000e+01,\n",
       "         1.34221848e-01, -9.12829871e-01],\n",
       "       [ 3.00000000e+01,  3.10000000e+01,  3.20000000e+01,\n",
       "        -7.89707847e-01,  1.24492073e+00],\n",
       "       [ 4.00000000e+01,  4.10000000e+01,  4.20000000e+01,\n",
       "         2.15326143e-01, -9.55666250e-01],\n",
       "       [ 4.00000000e+01,  4.10000000e+01,  4.20000000e+01,\n",
       "         1.17667741e-01,  1.96753694e-01],\n",
       "       [ 4.00000000e+01,  4.10000000e+01,  4.20000000e+01,\n",
       "        -5.59953246e-01, -2.80049487e-01],\n",
       "       [ 4.00000000e+01,  4.10000000e+01,  4.20000000e+01,\n",
       "        -5.73217803e-01, -7.13372516e-01],\n",
       "       [ 4.00000000e+01,  4.10000000e+01,  4.20000000e+01,\n",
       "        -3.85412330e-01,  4.06238048e-01],\n",
       "       [ 4.00000000e+01,  4.10000000e+01,  4.20000000e+01,\n",
       "        -1.25160937e+00,  8.44888169e-01],\n",
       "       [ 4.00000000e+01,  4.10000000e+01,  4.20000000e+01,\n",
       "        -9.47980455e-01,  2.66943386e-01],\n",
       "       [ 4.00000000e+01,  4.10000000e+01,  4.20000000e+01,\n",
       "         4.74326833e-01,  1.38838119e+00],\n",
       "       [ 4.00000000e+01,  4.10000000e+01,  4.20000000e+01,\n",
       "        -3.00581342e-01, -1.04618153e+00],\n",
       "       [ 4.00000000e+01,  4.10000000e+01,  4.20000000e+01,\n",
       "        -1.35512728e-03, -1.12211351e+00],\n",
       "       [ 5.00000000e+01,  5.10000000e+01,  5.20000000e+01,\n",
       "         7.29655427e-01, -3.23115393e-01],\n",
       "       [ 5.00000000e+01,  5.10000000e+01,  5.20000000e+01,\n",
       "         9.60052985e-01,  9.32836092e-01],\n",
       "       [ 5.00000000e+01,  5.10000000e+01,  5.20000000e+01,\n",
       "         2.04307477e-01,  9.22750980e-01],\n",
       "       [ 5.00000000e+01,  5.10000000e+01,  5.20000000e+01,\n",
       "        -8.05850194e-01, -7.37289978e-01],\n",
       "       [ 5.00000000e+01,  5.10000000e+01,  5.20000000e+01,\n",
       "         1.11640609e+00, -9.01784630e-01],\n",
       "       [ 5.00000000e+01,  5.10000000e+01,  5.20000000e+01,\n",
       "         2.14129309e+00,  1.67262167e+00],\n",
       "       [ 5.00000000e+01,  5.10000000e+01,  5.20000000e+01,\n",
       "        -2.82805279e-01, -8.90351889e-01],\n",
       "       [ 5.00000000e+01,  5.10000000e+01,  5.20000000e+01,\n",
       "         1.12060125e+00,  5.01864452e-02],\n",
       "       [ 5.00000000e+01,  5.10000000e+01,  5.20000000e+01,\n",
       "        -4.39847790e-01,  1.84232797e-01],\n",
       "       [ 5.00000000e+01,  5.10000000e+01,  5.20000000e+01,\n",
       "         1.46500634e+00, -8.71572525e-01],\n",
       "       [ 6.00000000e+01,  6.10000000e+01,  6.20000000e+01,\n",
       "         4.78009675e-01, -1.23498305e+00],\n",
       "       [ 6.00000000e+01,  6.10000000e+01,  6.20000000e+01,\n",
       "         2.11927104e-01, -1.43379602e+00],\n",
       "       [ 6.00000000e+01,  6.10000000e+01,  6.20000000e+01,\n",
       "        -1.24380600e+00,  1.79628986e+00],\n",
       "       [ 6.00000000e+01,  6.10000000e+01,  6.20000000e+01,\n",
       "         8.96388218e-02, -7.10043236e-01],\n",
       "       [ 6.00000000e+01,  6.10000000e+01,  6.20000000e+01,\n",
       "         7.66622921e-01, -9.37015490e-01],\n",
       "       [ 6.00000000e+01,  6.10000000e+01,  6.20000000e+01,\n",
       "         7.14407421e-01,  1.92877318e-02],\n",
       "       [ 6.00000000e+01,  6.10000000e+01,  6.20000000e+01,\n",
       "        -2.19460277e-01,  1.45688161e+00],\n",
       "       [ 6.00000000e+01,  6.10000000e+01,  6.20000000e+01,\n",
       "         1.48633974e+00,  7.15635775e-01],\n",
       "       [ 6.00000000e+01,  6.10000000e+01,  6.20000000e+01,\n",
       "        -2.47925458e+00,  1.06947338e+00],\n",
       "       [ 6.00000000e+01,  6.10000000e+01,  6.20000000e+01,\n",
       "         1.50721535e-01,  2.67159141e+00],\n",
       "       [ 7.00000000e+01,  7.10000000e+01,  7.20000000e+01,\n",
       "        -1.37932098e-01, -1.96479012e-01],\n",
       "       [ 7.00000000e+01,  7.10000000e+01,  7.20000000e+01,\n",
       "        -2.22255132e-01, -7.35429834e-01],\n",
       "       [ 7.00000000e+01,  7.10000000e+01,  7.20000000e+01,\n",
       "         1.03587299e-01,  2.97797377e-01],\n",
       "       [ 7.00000000e+01,  7.10000000e+01,  7.20000000e+01,\n",
       "         2.97608550e-01, -1.33592881e+00],\n",
       "       [ 7.00000000e+01,  7.10000000e+01,  7.20000000e+01,\n",
       "        -1.15138238e-01,  1.41512951e-02],\n",
       "       [ 7.00000000e+01,  7.10000000e+01,  7.20000000e+01,\n",
       "         1.59572860e+00, -5.70561250e-01],\n",
       "       [ 7.00000000e+01,  7.10000000e+01,  7.20000000e+01,\n",
       "        -9.58136682e-01,  1.01689622e-01],\n",
       "       [ 7.00000000e+01,  7.10000000e+01,  7.20000000e+01,\n",
       "         2.08796927e+00, -8.18344217e-01],\n",
       "       [ 7.00000000e+01,  7.10000000e+01,  7.20000000e+01,\n",
       "        -8.62761167e-01,  6.30018597e-01],\n",
       "       [ 7.00000000e+01,  7.10000000e+01,  7.20000000e+01,\n",
       "        -4.22856330e-01,  1.45472026e+00],\n",
       "       [ 8.00000000e+01,  8.10000000e+01,  8.20000000e+01,\n",
       "         1.77897597e+00,  1.51701989e-01],\n",
       "       [ 8.00000000e+01,  8.10000000e+01,  8.20000000e+01,\n",
       "         7.40128581e-01,  1.13458490e+00],\n",
       "       [ 8.00000000e+01,  8.10000000e+01,  8.20000000e+01,\n",
       "         4.77115645e-01,  7.56892898e-01],\n",
       "       [ 8.00000000e+01,  8.10000000e+01,  8.20000000e+01,\n",
       "         1.78775213e-01,  4.86729305e-01],\n",
       "       [ 8.00000000e+01,  8.10000000e+01,  8.20000000e+01,\n",
       "        -5.86517859e-01, -4.26090153e-01],\n",
       "       [ 8.00000000e+01,  8.10000000e+01,  8.20000000e+01,\n",
       "        -2.62815185e-01, -9.62901960e-01],\n",
       "       [ 8.00000000e+01,  8.10000000e+01,  8.20000000e+01,\n",
       "        -6.37288652e-01,  3.41708941e-01],\n",
       "       [ 8.00000000e+01,  8.10000000e+01,  8.20000000e+01,\n",
       "        -4.42189221e-01,  1.07419268e+00],\n",
       "       [ 8.00000000e+01,  8.10000000e+01,  8.20000000e+01,\n",
       "        -7.65045415e-01, -1.79151993e+00],\n",
       "       [ 8.00000000e+01,  8.10000000e+01,  8.20000000e+01,\n",
       "        -4.01515665e-01,  5.23608806e-01],\n",
       "       [ 9.00000000e+01,  9.10000000e+01,  9.20000000e+01,\n",
       "        -1.37081434e-01, -9.20264693e-01],\n",
       "       [ 9.00000000e+01,  9.10000000e+01,  9.20000000e+01,\n",
       "         7.08745814e-01,  1.93646891e+00],\n",
       "       [ 9.00000000e+01,  9.10000000e+01,  9.20000000e+01,\n",
       "        -7.50801947e-01,  8.69870211e-03],\n",
       "       [ 9.00000000e+01,  9.10000000e+01,  9.20000000e+01,\n",
       "         3.00306857e-01,  2.07494331e-01],\n",
       "       [ 9.00000000e+01,  9.10000000e+01,  9.20000000e+01,\n",
       "         1.01223227e-01, -1.84775966e+00],\n",
       "       [ 9.00000000e+01,  9.10000000e+01,  9.20000000e+01,\n",
       "         4.43365418e-01,  2.73747574e-02],\n",
       "       [ 9.00000000e+01,  9.10000000e+01,  9.20000000e+01,\n",
       "        -7.84566613e-02,  1.09000738e+00],\n",
       "       [ 9.00000000e+01,  9.10000000e+01,  9.20000000e+01,\n",
       "         1.14744921e+00, -6.93264829e-01],\n",
       "       [ 9.00000000e+01,  9.10000000e+01,  9.20000000e+01,\n",
       "        -1.54153791e+00,  7.17507208e-01],\n",
       "       [ 9.00000000e+01,  9.10000000e+01,  9.20000000e+01,\n",
       "         1.58451113e-01,  4.24312757e-01]])"
      ]
     },
     "execution_count": 110,
     "metadata": {},
     "output_type": "execute_result"
    }
   ],
   "source": [
    "np.append(b, np.random.normal(size=([10, 10, 2])), axis=2).reshape(100, 5)"
   ]
  },
  {
   "cell_type": "code",
   "execution_count": null,
   "id": "d067149d",
   "metadata": {},
   "outputs": [],
   "source": []
  }
 ],
 "metadata": {
  "kernelspec": {
   "display_name": "Python 3 (ipykernel)",
   "language": "python",
   "name": "python3"
  },
  "language_info": {
   "codemirror_mode": {
    "name": "ipython",
    "version": 3
   },
   "file_extension": ".py",
   "mimetype": "text/x-python",
   "name": "python",
   "nbconvert_exporter": "python",
   "pygments_lexer": "ipython3",
   "version": "3.10.4"
  }
 },
 "nbformat": 4,
 "nbformat_minor": 5
}
