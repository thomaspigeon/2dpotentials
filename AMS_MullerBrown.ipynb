{
 "cells": [
  {
   "cell_type": "markdown",
   "id": "ceb59e7d",
   "metadata": {},
   "source": [
    "# Run AMS on MullerBrown potential "
   ]
  },
  {
   "cell_type": "code",
   "execution_count": 1,
   "id": "2111deed",
   "metadata": {},
   "outputs": [
    {
     "data": {
      "text/html": [
       "<style>.container { width:90% !important; }</style>"
      ],
      "text/plain": [
       "<IPython.core.display.HTML object>"
      ]
     },
     "metadata": {},
     "output_type": "display_data"
    }
   ],
   "source": [
    "from IPython.core.display import  HTML\n",
    "# Jupyter display settings\n",
    "display(HTML(\"<style>.container { width:90% !important; }</style>\"))"
   ]
  },
  {
   "cell_type": "markdown",
   "id": "e209bf78",
   "metadata": {},
   "source": [
    "General imports "
   ]
  },
  {
   "cell_type": "code",
   "execution_count": 2,
   "id": "ac103201",
   "metadata": {},
   "outputs": [],
   "source": [
    "import numpy as np\n",
    "import matplotlib.pyplot as plt"
   ]
  },
  {
   "cell_type": "code",
   "execution_count": 3,
   "id": "02962c78",
   "metadata": {},
   "outputs": [],
   "source": [
    "from potentials.MullerBrown import MullerBrown\n",
    "from simulations.AMSSimulation import AMSOverdampedLangevin"
   ]
  },
  {
   "cell_type": "markdown",
   "id": "e98bb318",
   "metadata": {},
   "source": [
    "Definie the potential "
   ]
  },
  {
   "cell_type": "code",
   "execution_count": 4,
   "id": "333b50ba",
   "metadata": {},
   "outputs": [],
   "source": [
    "pot = MullerBrown()\n",
    "pot.set_SigmaR_position(1.)\n",
    "pot.set_SigmaP_position(1.)"
   ]
  },
  {
   "cell_type": "markdown",
   "id": "9b356921",
   "metadata": {},
   "source": [
    "Define reaction coodinate for ams. "
   ]
  },
  {
   "cell_type": "code",
   "execution_count": 5,
   "id": "6ca4ada0",
   "metadata": {},
   "outputs": [],
   "source": [
    "def xi(x):\n",
    "    \"\"\"Reaction coordinate \n",
    "    :param x: numpy array with ndim=2 and shape = [any, 2]\n",
    "    :return xi: numpy array with ndim=1 and shape = [any, 1]\"\"\"\n",
    "    if pot.in_P(x[0]):\n",
    "        return 10 ** 8\n",
    "    if pot.in_R(x[0]):\n",
    "        return -10 ** 8\n",
    "    return -x[0, 1]"
   ]
  },
  {
   "cell_type": "markdown",
   "id": "04da6d9e",
   "metadata": {},
   "source": [
    "Define AMS object "
   ]
  },
  {
   "cell_type": "code",
   "execution_count": 6,
   "id": "90da3d12",
   "metadata": {},
   "outputs": [],
   "source": [
    "beta = 0.05\n",
    "dt = 0.0001\n",
    "AMS_on_MB = AMSOverdampedLangevin(pot, xi, beta, forward=True, dt=dt, threshold=10**(-5))"
   ]
  },
  {
   "cell_type": "markdown",
   "id": "4662fea8",
   "metadata": {},
   "source": [
    "Sample initial condtions "
   ]
  },
  {
   "cell_type": "code",
   "execution_count": 7,
   "id": "fcd9cb4d",
   "metadata": {},
   "outputs": [
    {
     "name": "stdout",
     "output_type": "stream",
     "text": [
      "772\n"
     ]
    }
   ],
   "source": [
    "n_conditions = 50\n",
    "ini_traj, ini_conds, _, n_steps = AMS_on_MB.sample_initial_conditions(n_conditions=n_conditions, save_gauss=False)\n",
    "print(n_steps)"
   ]
  },
  {
   "cell_type": "markdown",
   "id": "77d84919",
   "metadata": {},
   "source": [
    "Do an AMS run "
   ]
  },
  {
   "cell_type": "code",
   "execution_count": 8,
   "id": "d5aaead9",
   "metadata": {},
   "outputs": [],
   "source": [
    "n_rep = 50\n",
    "k_min = 1"
   ]
  },
  {
   "cell_type": "code",
   "execution_count": 9,
   "id": "2055f139",
   "metadata": {
    "scrolled": true
   },
   "outputs": [],
   "source": [
    "p, z_kills, replicas, total_md_steps = AMS_on_MB.ams_run(ini_conds, n_rep, k_min, return_all=True, save_gauss=False)"
   ]
  },
  {
   "cell_type": "code",
   "execution_count": 10,
   "id": "81cfb2be",
   "metadata": {},
   "outputs": [
    {
     "name": "stdout",
     "output_type": "stream",
     "text": [
      "23757\n"
     ]
    }
   ],
   "source": [
    "print(total_md_steps)"
   ]
  },
  {
   "cell_type": "code",
   "execution_count": 11,
   "id": "8d82da31",
   "metadata": {},
   "outputs": [],
   "source": [
    "probas = []\n",
    "n_conditions = 50\n",
    "n_rep = 50\n",
    "k_min = 1\n",
    "for i in range(10):\n",
    "    ini_traj, ini_conds, _, n_steps = AMS_on_MB.sample_initial_conditions(n_conditions=n_conditions, save_gauss=False)\n",
    "    p, z_kills, replicas, total_md_steps = AMS_on_MB.ams_run(ini_conds, n_rep, k_min, return_all=True, save_gauss=False)\n",
    "    probas.append(p)"
   ]
  },
  {
   "cell_type": "code",
   "execution_count": 12,
   "id": "8fce7bf0",
   "metadata": {},
   "outputs": [
    {
     "name": "stdout",
     "output_type": "stream",
     "text": [
      "0.001203358059701184\n",
      "0.0006081990787103127\n"
     ]
    }
   ],
   "source": [
    "print(np.mean(probas))\n",
    "print(np.std(probas, ddof=1))"
   ]
  },
  {
   "cell_type": "code",
   "execution_count": null,
   "id": "c8f546dd",
   "metadata": {},
   "outputs": [],
   "source": []
  }
 ],
 "metadata": {
  "kernelspec": {
   "display_name": "Python 3 (ipykernel)",
   "language": "python",
   "name": "python3"
  },
  "language_info": {
   "codemirror_mode": {
    "name": "ipython",
    "version": 3
   },
   "file_extension": ".py",
   "mimetype": "text/x-python",
   "name": "python",
   "nbconvert_exporter": "python",
   "pygments_lexer": "ipython3",
   "version": "3.10.4"
  }
 },
 "nbformat": 4,
 "nbformat_minor": 5
}
