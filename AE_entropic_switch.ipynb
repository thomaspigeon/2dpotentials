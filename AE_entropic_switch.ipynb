{
 "cells": [
  {
   "cell_type": "markdown",
   "id": "851e7833",
   "metadata": {},
   "source": [
    "# Train AE with data generated on MullerBrown potential "
   ]
  },
  {
   "cell_type": "code",
   "execution_count": 1,
   "id": "4369cc00",
   "metadata": {},
   "outputs": [
    {
     "data": {
      "text/html": [
       "<style>.container { width:90% !important; }</style>"
      ],
      "text/plain": [
       "<IPython.core.display.HTML object>"
      ]
     },
     "metadata": {},
     "output_type": "display_data"
    }
   ],
   "source": [
    "from IPython.core.display import  HTML\n",
    "# Jupyter display settings\n",
    "display(HTML(\"<style>.container { width:90% !important; }</style>\"))"
   ]
  },
  {
   "cell_type": "markdown",
   "id": "7061f364",
   "metadata": {},
   "source": [
    "General imports "
   ]
  },
  {
   "cell_type": "code",
   "execution_count": 2,
   "id": "22679879",
   "metadata": {},
   "outputs": [],
   "source": [
    "import numpy as np\n",
    "import matplotlib.pyplot as plt"
   ]
  },
  {
   "cell_type": "code",
   "execution_count": 3,
   "id": "a9d4aa0a",
   "metadata": {},
   "outputs": [],
   "source": [
    "from potentials.EntropicSwitchTrippleWellPotential import EntropicSwitchTrippleWellPotential\n",
    "from simulations.UnbiasedMD import OverdampedLangevin"
   ]
  },
  {
   "cell_type": "markdown",
   "id": "29b1f5a2",
   "metadata": {},
   "source": [
    "Generate dataset "
   ]
  },
  {
   "cell_type": "code",
   "execution_count": 4,
   "id": "bab951a9",
   "metadata": {},
   "outputs": [],
   "source": [
    "pot = EntropicSwitchTrippleWellPotential()"
   ]
  },
  {
   "cell_type": "code",
   "execution_count": 25,
   "id": "ade7081d",
   "metadata": {},
   "outputs": [],
   "source": [
    "beta = 3\n",
    "dt = 0.01\n",
    "unbiased_OL_on_MB = OverdampedLangevin(pot, beta, dt=dt)\n",
    "x_0 = pot.minP\n",
    "n_steps = 10**6"
   ]
  },
  {
   "cell_type": "code",
   "execution_count": null,
   "id": "f70a0a6c",
   "metadata": {},
   "outputs": [],
   "source": [
    "traj_dict1 = unbiased_OL_on_MB.run(x_0, n_steps, save_grad=False, save_gauss=False)"
   ]
  },
  {
   "cell_type": "code",
   "execution_count": null,
   "id": "68b99011",
   "metadata": {},
   "outputs": [],
   "source": [
    "x_0 = pot.minR\n",
    "traj_dict2 = unbiased_OL_on_MB.run(x_0, n_steps, save_grad=False, save_gauss=False)"
   ]
  },
  {
   "cell_type": "code",
   "execution_count": null,
   "id": "1f7a03a6",
   "metadata": {},
   "outputs": [],
   "source": [
    "fig = plt.figure()\n",
    "ax = fig.add_subplot()\n",
    "pot.plot_potential_heat_map(ax)\n",
    "ax.plot(pot.minimum_energy_paths[0][:, 0], pot.minimum_energy_paths[0][:, 1], color='purple', label='Minimum energy path')\n",
    "ax.plot(pot.minimum_energy_paths[1][:, 0], pot.minimum_energy_paths[1][:, 1], color='purple')\n",
    "ax.plot(pot.minimum_energy_paths[2][:, 0], pot.minimum_energy_paths[2][:, 1], color='purple')\n",
    "ax.scatter(traj_dict1[\"x_traj\"][:, 0], traj_dict1[\"x_traj\"][:, 1], marker=\".\", color=\"orange\", s=1)\n",
    "ax.scatter(traj_dict2[\"x_traj\"][:, 0], traj_dict2[\"x_traj\"][:, 1], marker=\".\", color=\"orange\", s=1)\n",
    "ax.legend()"
   ]
  },
  {
   "cell_type": "code",
   "execution_count": null,
   "id": "2a466821",
   "metadata": {},
   "outputs": [],
   "source": [
    "dataset = {\"boltz_points\": np.append(traj_dict1[\"x_traj\"], traj_dict2[\"x_traj\"], axis=0)}"
   ]
  },
  {
   "cell_type": "code",
   "execution_count": null,
   "id": "a5a01eaa",
   "metadata": {},
   "outputs": [],
   "source": [
    "dataset.keys()"
   ]
  },
  {
   "cell_type": "markdown",
   "id": "d3224c34",
   "metadata": {},
   "source": [
    "Import AE model "
   ]
  },
  {
   "cell_type": "code",
   "execution_count": null,
   "id": "5f59b03f",
   "metadata": {},
   "outputs": [],
   "source": [
    "from autoencoders.ae_models import DeepAutoEncoderDoubleDec\n",
    "from autoencoders.train_aes import TainAETwoDecoder"
   ]
  },
  {
   "cell_type": "markdown",
   "id": "2f943b35",
   "metadata": {},
   "source": [
    "Create autoencoder object"
   ]
  },
  {
   "cell_type": "code",
   "execution_count": null,
   "id": "cdce78c4",
   "metadata": {},
   "outputs": [],
   "source": [
    "del(ae)\n",
    "del(ae_training)"
   ]
  },
  {
   "cell_type": "code",
   "execution_count": null,
   "id": "e47126b1",
   "metadata": {},
   "outputs": [],
   "source": [
    "ae = DeepAutoEncoderDoubleDec([2, 10, 10, 1], [1, 20, 20, 2], 0)"
   ]
  },
  {
   "cell_type": "markdown",
   "id": "a6c8f449",
   "metadata": {},
   "source": [
    "Created training object"
   ]
  },
  {
   "cell_type": "code",
   "execution_count": null,
   "id": "d89ebfc9",
   "metadata": {},
   "outputs": [],
   "source": [
    "ae_training = TainAETwoDecoder(ae, pot, dataset.copy(), standardize=False)"
   ]
  },
  {
   "cell_type": "markdown",
   "id": "a674b4d6",
   "metadata": {},
   "source": [
    "Set the training size and do the train-test split"
   ]
  },
  {
   "cell_type": "code",
   "execution_count": null,
   "id": "961d052c",
   "metadata": {},
   "outputs": [],
   "source": [
    "ae_training.train_test_split(train_size=2 * 10**3)\n",
    "ae_training.split_training_dataset_K_folds(2)\n",
    "ae_training.set_train_val_data(0)"
   ]
  },
  {
   "cell_type": "markdown",
   "id": "62852f46",
   "metadata": {},
   "source": [
    "Set the optimizer "
   ]
  },
  {
   "cell_type": "code",
   "execution_count": null,
   "id": "5c72ba5c",
   "metadata": {},
   "outputs": [],
   "source": [
    "ae_training.set_optimizer('Adam', 0.001, parameters_to_train='all')"
   ]
  },
  {
   "cell_type": "markdown",
   "id": "4d3e1192",
   "metadata": {},
   "source": [
    "Set the loss function parameters "
   ]
  },
  {
   "cell_type": "code",
   "execution_count": null,
   "id": "d8995cc9",
   "metadata": {},
   "outputs": [],
   "source": [
    "loss_params = {}\n",
    "loss_params[\"mse_boltz_weight\"] = 1.0 * 10**(0)\n",
    "loss_params[\"var_enc_weight\"] = 0.0 * 10**(0)\n",
    "loss_params[\"squared_grad_boltz_weight\"] = 1.0 * 10**(-4)\n",
    "loss_params[\"pen_points_weight\"] = 1.0 * 10**(-1)\n",
    "loss_params[\"pen_points_mse_weight\"] = 1.0 * 10**(-1)\n",
    "loss_params[\"n_wait\"] = 50\n",
    "ae_training.set_loss_weight(loss_params)"
   ]
  },
  {
   "cell_type": "markdown",
   "id": "d9c02f74",
   "metadata": {},
   "source": [
    "Set the max number of epoch and batch size "
   ]
  },
  {
   "cell_type": "code",
   "execution_count": null,
   "id": "948f1116",
   "metadata": {},
   "outputs": [],
   "source": [
    "batch_size = 100\n",
    "max_epochs = 10000"
   ]
  },
  {
   "cell_type": "markdown",
   "id": "ae5b41e7",
   "metadata": {},
   "source": [
    "Train "
   ]
  },
  {
   "cell_type": "code",
   "execution_count": null,
   "id": "56d02683",
   "metadata": {},
   "outputs": [],
   "source": [
    "loss_dict = ae_training.train(batch_size, max_epochs)"
   ]
  },
  {
   "cell_type": "markdown",
   "id": "743cdf29",
   "metadata": {},
   "source": [
    "Plot the evolution of the loss stating from the 100th epoch "
   ]
  },
  {
   "cell_type": "code",
   "execution_count": null,
   "id": "4290ec64",
   "metadata": {},
   "outputs": [],
   "source": [
    "plt.figure()\n",
    "plt.plot(loss_dict[\"train_loss\"][:], label='train loss')\n",
    "plt.plot(loss_dict[\"test_loss\"][:], label='test loss')\n",
    "plt.legend()"
   ]
  },
  {
   "cell_type": "markdown",
   "id": "a09ea08c",
   "metadata": {},
   "source": [
    "Plot the conditionnal averages on the potential heat map "
   ]
  },
  {
   "cell_type": "code",
   "execution_count": null,
   "id": "b210d2e6",
   "metadata": {},
   "outputs": [],
   "source": [
    "fig = plt.figure(figsize=(9, 6))\n",
    "ax = fig.add_subplot()\n",
    "pot.plot_potential_heat_map(ax)\n",
    "ax.plot(pot.minimum_energy_paths[0][:, 0], pot.minimum_energy_paths[0][:, 1], color='orange', label='Minimum energy path')\n",
    "ax.plot(pot.minimum_energy_paths[1][:, 0], pot.minimum_energy_paths[1][:, 1], color='orange')\n",
    "ax.plot(pot.minimum_energy_paths[2][:, 0], pot.minimum_energy_paths[2][:, 1], color='orange')\n",
    "ae_training.plot_encoder_iso_levels(ax, 40)\n",
    "ae_training.plot_conditional_averages(ax, 40)\n",
    "ae_training.plot_conditional_averages\n",
    "ax.legend()"
   ]
  },
  {
   "cell_type": "markdown",
   "id": "aea2c790",
   "metadata": {},
   "source": [
    "Plot convergence of the principal curve "
   ]
  },
  {
   "cell_type": "code",
   "execution_count": null,
   "id": "d21df2f0",
   "metadata": {},
   "outputs": [],
   "source": [
    "ae_training.plot_principal_curve_convergence(20)"
   ]
  },
  {
   "cell_type": "code",
   "execution_count": null,
   "id": "5d54c5d7",
   "metadata": {},
   "outputs": [],
   "source": [
    "import torch \n",
    "boltz_points = torch.tensor(ae_training.dataset[\"boltz_points\"].astype('float32'))\n",
    "boltz_points_decoded1 = ae_training.ae.decoder1(ae_training.ae.encoder(boltz_points))\n",
    "boltz_points_decoded2 = ae_training.ae.decoder2(ae_training.ae.encoder(boltz_points))\n",
    "x1 = torch.sum((boltz_points - boltz_points_decoded1) ** 2, dim=1).detach().numpy() < torch.sum(\n",
    "            (boltz_points - boltz_points_decoded2) ** 2,\n",
    "            dim=1).detach().numpy()\n",
    "x2 = torch.sum((boltz_points - boltz_points_decoded2) ** 2, dim=1).detach().numpy() < torch.sum(\n",
    "            (boltz_points - boltz_points_decoded1) ** 2,\n",
    "            dim=1).detach().numpy()\n",
    "\n",
    "fig = plt.figure(figsize=(9, 6))\n",
    "ax = fig.add_subplot()\n",
    "pot.plot_potential_heat_map(ax)\n",
    "ax.scatter(ae_training.dataset[\"boltz_points\"][x1][:, 0], ae_training.dataset[\"boltz_points\"][x1][:, 1], color='blue', label='decoder1', s=1)\n",
    "ax.scatter(ae_training.dataset[\"boltz_points\"][x2][:, 0], ae_training.dataset[\"boltz_points\"][x2][:, 1], color='purple', label='decoder2', s=1)\n",
    "ax.plot(pot.minimum_energy_paths[0][:, 0], pot.minimum_energy_paths[0][:, 1], color='orange', label='Minimum energy path')\n",
    "ax.plot(pot.minimum_energy_paths[1][:, 0], pot.minimum_energy_paths[1][:, 1], color='orange')\n",
    "ax.plot(pot.minimum_energy_paths[2][:, 0], pot.minimum_energy_paths[2][:, 1], color='orange')\n",
    "\n",
    "ae_training.plot_encoder_iso_levels(ax, 20)\n",
    "ax.legend()"
   ]
  },
  {
   "cell_type": "code",
   "execution_count": null,
   "id": "cdcaa8c5",
   "metadata": {},
   "outputs": [],
   "source": [
    "ae_training.print_test_loss()"
   ]
  },
  {
   "cell_type": "code",
   "execution_count": null,
   "id": "ce3ecb0e",
   "metadata": {},
   "outputs": [],
   "source": []
  },
  {
   "cell_type": "code",
   "execution_count": null,
   "id": "05be1d0c",
   "metadata": {},
   "outputs": [],
   "source": []
  },
  {
   "cell_type": "code",
   "execution_count": null,
   "id": "bc4cdab8",
   "metadata": {},
   "outputs": [],
   "source": []
  }
 ],
 "metadata": {
  "kernelspec": {
   "display_name": "Python 3 (ipykernel)",
   "language": "python",
   "name": "python3"
  },
  "language_info": {
   "codemirror_mode": {
    "name": "ipython",
    "version": 3
   },
   "file_extension": ".py",
   "mimetype": "text/x-python",
   "name": "python",
   "nbconvert_exporter": "python",
   "pygments_lexer": "ipython3",
   "version": "3.10.4"
  }
 },
 "nbformat": 4,
 "nbformat_minor": 5
}
